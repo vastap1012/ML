{
  "nbformat": 4,
  "nbformat_minor": 0,
  "metadata": {
    "colab": {
      "provenance": []
    },
    "kernelspec": {
      "name": "python3",
      "display_name": "Python 3"
    },
    "language_info": {
      "name": "python"
    }
  },
  "cells": [
    {
      "cell_type": "markdown",
      "metadata": {
        "id": "i1h7LAlVa7Gu"
      },
      "source": [
        "Importing the Libraries"
      ]
    },
    {
      "cell_type": "code",
      "metadata": {
        "id": "d2o7jdWHXE6K"
      },
      "source": [
        "import numpy as np\n",
        "import pandas as pd\n",
        "import matplotlib.pyplot as plt\n",
        "import seaborn as sns\n",
        "from sklearn.model_selection import train_test_split\n",
        "from sklearn.ensemble import RandomForestRegressor\n",
        "from sklearn import metrics"
      ],
      "execution_count": 1,
      "outputs": []
    },
    {
      "cell_type": "markdown",
      "metadata": {
        "id": "Y1jC584Mbd4Q"
      },
      "source": [
        "Data Collection and Processing"
      ]
    },
    {
      "cell_type": "code",
      "metadata": {
        "id": "BQtjCTzHbZQO"
      },
      "source": [
        "# loading the csv data to a Pandas DataFrame\n",
        "gold_data = pd.read_csv('/content/gld_price_data.csv')"
      ],
      "execution_count": 2,
      "outputs": []
    },
    {
      "cell_type": "code",
      "metadata": {
        "colab": {
          "base_uri": "https://localhost:8080/",
          "height": 206
        },
        "id": "S5xeeB9LbyA9",
        "outputId": "f7df8b0f-8040-4dae-ab6c-c3b9ccc3e30e"
      },
      "source": [
        "# print first 5 rows in the dataframe\n",
        "gold_data.head()"
      ],
      "execution_count": 3,
      "outputs": [
        {
          "output_type": "execute_result",
          "data": {
            "text/plain": [
              "       Date          SPX        GLD        USO     SLV   EUR/USD\n",
              "0  1/2/2008  1447.160034  84.860001  78.470001  15.180  1.471692\n",
              "1  1/3/2008  1447.160034  85.570000  78.370003  15.285  1.474491\n",
              "2  1/4/2008  1411.630005  85.129997  77.309998  15.167  1.475492\n",
              "3  1/7/2008  1416.180054  84.769997  75.500000  15.053  1.468299\n",
              "4  1/8/2008  1390.189941  86.779999  76.059998  15.590  1.557099"
            ],
            "text/html": [
              "\n",
              "  <div id=\"df-f7abc577-0192-4947-b6c4-af938ce64c8d\">\n",
              "    <div class=\"colab-df-container\">\n",
              "      <div>\n",
              "<style scoped>\n",
              "    .dataframe tbody tr th:only-of-type {\n",
              "        vertical-align: middle;\n",
              "    }\n",
              "\n",
              "    .dataframe tbody tr th {\n",
              "        vertical-align: top;\n",
              "    }\n",
              "\n",
              "    .dataframe thead th {\n",
              "        text-align: right;\n",
              "    }\n",
              "</style>\n",
              "<table border=\"1\" class=\"dataframe\">\n",
              "  <thead>\n",
              "    <tr style=\"text-align: right;\">\n",
              "      <th></th>\n",
              "      <th>Date</th>\n",
              "      <th>SPX</th>\n",
              "      <th>GLD</th>\n",
              "      <th>USO</th>\n",
              "      <th>SLV</th>\n",
              "      <th>EUR/USD</th>\n",
              "    </tr>\n",
              "  </thead>\n",
              "  <tbody>\n",
              "    <tr>\n",
              "      <th>0</th>\n",
              "      <td>1/2/2008</td>\n",
              "      <td>1447.160034</td>\n",
              "      <td>84.860001</td>\n",
              "      <td>78.470001</td>\n",
              "      <td>15.180</td>\n",
              "      <td>1.471692</td>\n",
              "    </tr>\n",
              "    <tr>\n",
              "      <th>1</th>\n",
              "      <td>1/3/2008</td>\n",
              "      <td>1447.160034</td>\n",
              "      <td>85.570000</td>\n",
              "      <td>78.370003</td>\n",
              "      <td>15.285</td>\n",
              "      <td>1.474491</td>\n",
              "    </tr>\n",
              "    <tr>\n",
              "      <th>2</th>\n",
              "      <td>1/4/2008</td>\n",
              "      <td>1411.630005</td>\n",
              "      <td>85.129997</td>\n",
              "      <td>77.309998</td>\n",
              "      <td>15.167</td>\n",
              "      <td>1.475492</td>\n",
              "    </tr>\n",
              "    <tr>\n",
              "      <th>3</th>\n",
              "      <td>1/7/2008</td>\n",
              "      <td>1416.180054</td>\n",
              "      <td>84.769997</td>\n",
              "      <td>75.500000</td>\n",
              "      <td>15.053</td>\n",
              "      <td>1.468299</td>\n",
              "    </tr>\n",
              "    <tr>\n",
              "      <th>4</th>\n",
              "      <td>1/8/2008</td>\n",
              "      <td>1390.189941</td>\n",
              "      <td>86.779999</td>\n",
              "      <td>76.059998</td>\n",
              "      <td>15.590</td>\n",
              "      <td>1.557099</td>\n",
              "    </tr>\n",
              "  </tbody>\n",
              "</table>\n",
              "</div>\n",
              "      <button class=\"colab-df-convert\" onclick=\"convertToInteractive('df-f7abc577-0192-4947-b6c4-af938ce64c8d')\"\n",
              "              title=\"Convert this dataframe to an interactive table.\"\n",
              "              style=\"display:none;\">\n",
              "        \n",
              "  <svg xmlns=\"http://www.w3.org/2000/svg\" height=\"24px\"viewBox=\"0 0 24 24\"\n",
              "       width=\"24px\">\n",
              "    <path d=\"M0 0h24v24H0V0z\" fill=\"none\"/>\n",
              "    <path d=\"M18.56 5.44l.94 2.06.94-2.06 2.06-.94-2.06-.94-.94-2.06-.94 2.06-2.06.94zm-11 1L8.5 8.5l.94-2.06 2.06-.94-2.06-.94L8.5 2.5l-.94 2.06-2.06.94zm10 10l.94 2.06.94-2.06 2.06-.94-2.06-.94-.94-2.06-.94 2.06-2.06.94z\"/><path d=\"M17.41 7.96l-1.37-1.37c-.4-.4-.92-.59-1.43-.59-.52 0-1.04.2-1.43.59L10.3 9.45l-7.72 7.72c-.78.78-.78 2.05 0 2.83L4 21.41c.39.39.9.59 1.41.59.51 0 1.02-.2 1.41-.59l7.78-7.78 2.81-2.81c.8-.78.8-2.07 0-2.86zM5.41 20L4 18.59l7.72-7.72 1.47 1.35L5.41 20z\"/>\n",
              "  </svg>\n",
              "      </button>\n",
              "      \n",
              "  <style>\n",
              "    .colab-df-container {\n",
              "      display:flex;\n",
              "      flex-wrap:wrap;\n",
              "      gap: 12px;\n",
              "    }\n",
              "\n",
              "    .colab-df-convert {\n",
              "      background-color: #E8F0FE;\n",
              "      border: none;\n",
              "      border-radius: 50%;\n",
              "      cursor: pointer;\n",
              "      display: none;\n",
              "      fill: #1967D2;\n",
              "      height: 32px;\n",
              "      padding: 0 0 0 0;\n",
              "      width: 32px;\n",
              "    }\n",
              "\n",
              "    .colab-df-convert:hover {\n",
              "      background-color: #E2EBFA;\n",
              "      box-shadow: 0px 1px 2px rgba(60, 64, 67, 0.3), 0px 1px 3px 1px rgba(60, 64, 67, 0.15);\n",
              "      fill: #174EA6;\n",
              "    }\n",
              "\n",
              "    [theme=dark] .colab-df-convert {\n",
              "      background-color: #3B4455;\n",
              "      fill: #D2E3FC;\n",
              "    }\n",
              "\n",
              "    [theme=dark] .colab-df-convert:hover {\n",
              "      background-color: #434B5C;\n",
              "      box-shadow: 0px 1px 3px 1px rgba(0, 0, 0, 0.15);\n",
              "      filter: drop-shadow(0px 1px 2px rgba(0, 0, 0, 0.3));\n",
              "      fill: #FFFFFF;\n",
              "    }\n",
              "  </style>\n",
              "\n",
              "      <script>\n",
              "        const buttonEl =\n",
              "          document.querySelector('#df-f7abc577-0192-4947-b6c4-af938ce64c8d button.colab-df-convert');\n",
              "        buttonEl.style.display =\n",
              "          google.colab.kernel.accessAllowed ? 'block' : 'none';\n",
              "\n",
              "        async function convertToInteractive(key) {\n",
              "          const element = document.querySelector('#df-f7abc577-0192-4947-b6c4-af938ce64c8d');\n",
              "          const dataTable =\n",
              "            await google.colab.kernel.invokeFunction('convertToInteractive',\n",
              "                                                     [key], {});\n",
              "          if (!dataTable) return;\n",
              "\n",
              "          const docLinkHtml = 'Like what you see? Visit the ' +\n",
              "            '<a target=\"_blank\" href=https://colab.research.google.com/notebooks/data_table.ipynb>data table notebook</a>'\n",
              "            + ' to learn more about interactive tables.';\n",
              "          element.innerHTML = '';\n",
              "          dataTable['output_type'] = 'display_data';\n",
              "          await google.colab.output.renderOutput(dataTable, element);\n",
              "          const docLink = document.createElement('div');\n",
              "          docLink.innerHTML = docLinkHtml;\n",
              "          element.appendChild(docLink);\n",
              "        }\n",
              "      </script>\n",
              "    </div>\n",
              "  </div>\n",
              "  "
            ]
          },
          "metadata": {},
          "execution_count": 3
        }
      ]
    },
    {
      "cell_type": "code",
      "metadata": {
        "colab": {
          "base_uri": "https://localhost:8080/",
          "height": 206
        },
        "id": "NrywfHOBb6HD",
        "outputId": "70804055-76ff-4afb-c928-37068861d826"
      },
      "source": [
        "# print last 5 rows of the dataframe\n",
        "gold_data.tail()"
      ],
      "execution_count": 4,
      "outputs": [
        {
          "output_type": "execute_result",
          "data": {
            "text/plain": [
              "           Date          SPX         GLD      USO      SLV   EUR/USD\n",
              "2285   5/8/2018  2671.919922  124.589996  14.0600  15.5100  1.186789\n",
              "2286   5/9/2018  2697.790039  124.330002  14.3700  15.5300  1.184722\n",
              "2287  5/10/2018  2723.070068  125.180000  14.4100  15.7400  1.191753\n",
              "2288  5/14/2018  2730.129883  124.489998  14.3800  15.5600  1.193118\n",
              "2289  5/16/2018  2725.780029  122.543800  14.4058  15.4542  1.182033"
            ],
            "text/html": [
              "\n",
              "  <div id=\"df-64e6bd93-994a-48a0-8557-a694dbc6e459\">\n",
              "    <div class=\"colab-df-container\">\n",
              "      <div>\n",
              "<style scoped>\n",
              "    .dataframe tbody tr th:only-of-type {\n",
              "        vertical-align: middle;\n",
              "    }\n",
              "\n",
              "    .dataframe tbody tr th {\n",
              "        vertical-align: top;\n",
              "    }\n",
              "\n",
              "    .dataframe thead th {\n",
              "        text-align: right;\n",
              "    }\n",
              "</style>\n",
              "<table border=\"1\" class=\"dataframe\">\n",
              "  <thead>\n",
              "    <tr style=\"text-align: right;\">\n",
              "      <th></th>\n",
              "      <th>Date</th>\n",
              "      <th>SPX</th>\n",
              "      <th>GLD</th>\n",
              "      <th>USO</th>\n",
              "      <th>SLV</th>\n",
              "      <th>EUR/USD</th>\n",
              "    </tr>\n",
              "  </thead>\n",
              "  <tbody>\n",
              "    <tr>\n",
              "      <th>2285</th>\n",
              "      <td>5/8/2018</td>\n",
              "      <td>2671.919922</td>\n",
              "      <td>124.589996</td>\n",
              "      <td>14.0600</td>\n",
              "      <td>15.5100</td>\n",
              "      <td>1.186789</td>\n",
              "    </tr>\n",
              "    <tr>\n",
              "      <th>2286</th>\n",
              "      <td>5/9/2018</td>\n",
              "      <td>2697.790039</td>\n",
              "      <td>124.330002</td>\n",
              "      <td>14.3700</td>\n",
              "      <td>15.5300</td>\n",
              "      <td>1.184722</td>\n",
              "    </tr>\n",
              "    <tr>\n",
              "      <th>2287</th>\n",
              "      <td>5/10/2018</td>\n",
              "      <td>2723.070068</td>\n",
              "      <td>125.180000</td>\n",
              "      <td>14.4100</td>\n",
              "      <td>15.7400</td>\n",
              "      <td>1.191753</td>\n",
              "    </tr>\n",
              "    <tr>\n",
              "      <th>2288</th>\n",
              "      <td>5/14/2018</td>\n",
              "      <td>2730.129883</td>\n",
              "      <td>124.489998</td>\n",
              "      <td>14.3800</td>\n",
              "      <td>15.5600</td>\n",
              "      <td>1.193118</td>\n",
              "    </tr>\n",
              "    <tr>\n",
              "      <th>2289</th>\n",
              "      <td>5/16/2018</td>\n",
              "      <td>2725.780029</td>\n",
              "      <td>122.543800</td>\n",
              "      <td>14.4058</td>\n",
              "      <td>15.4542</td>\n",
              "      <td>1.182033</td>\n",
              "    </tr>\n",
              "  </tbody>\n",
              "</table>\n",
              "</div>\n",
              "      <button class=\"colab-df-convert\" onclick=\"convertToInteractive('df-64e6bd93-994a-48a0-8557-a694dbc6e459')\"\n",
              "              title=\"Convert this dataframe to an interactive table.\"\n",
              "              style=\"display:none;\">\n",
              "        \n",
              "  <svg xmlns=\"http://www.w3.org/2000/svg\" height=\"24px\"viewBox=\"0 0 24 24\"\n",
              "       width=\"24px\">\n",
              "    <path d=\"M0 0h24v24H0V0z\" fill=\"none\"/>\n",
              "    <path d=\"M18.56 5.44l.94 2.06.94-2.06 2.06-.94-2.06-.94-.94-2.06-.94 2.06-2.06.94zm-11 1L8.5 8.5l.94-2.06 2.06-.94-2.06-.94L8.5 2.5l-.94 2.06-2.06.94zm10 10l.94 2.06.94-2.06 2.06-.94-2.06-.94-.94-2.06-.94 2.06-2.06.94z\"/><path d=\"M17.41 7.96l-1.37-1.37c-.4-.4-.92-.59-1.43-.59-.52 0-1.04.2-1.43.59L10.3 9.45l-7.72 7.72c-.78.78-.78 2.05 0 2.83L4 21.41c.39.39.9.59 1.41.59.51 0 1.02-.2 1.41-.59l7.78-7.78 2.81-2.81c.8-.78.8-2.07 0-2.86zM5.41 20L4 18.59l7.72-7.72 1.47 1.35L5.41 20z\"/>\n",
              "  </svg>\n",
              "      </button>\n",
              "      \n",
              "  <style>\n",
              "    .colab-df-container {\n",
              "      display:flex;\n",
              "      flex-wrap:wrap;\n",
              "      gap: 12px;\n",
              "    }\n",
              "\n",
              "    .colab-df-convert {\n",
              "      background-color: #E8F0FE;\n",
              "      border: none;\n",
              "      border-radius: 50%;\n",
              "      cursor: pointer;\n",
              "      display: none;\n",
              "      fill: #1967D2;\n",
              "      height: 32px;\n",
              "      padding: 0 0 0 0;\n",
              "      width: 32px;\n",
              "    }\n",
              "\n",
              "    .colab-df-convert:hover {\n",
              "      background-color: #E2EBFA;\n",
              "      box-shadow: 0px 1px 2px rgba(60, 64, 67, 0.3), 0px 1px 3px 1px rgba(60, 64, 67, 0.15);\n",
              "      fill: #174EA6;\n",
              "    }\n",
              "\n",
              "    [theme=dark] .colab-df-convert {\n",
              "      background-color: #3B4455;\n",
              "      fill: #D2E3FC;\n",
              "    }\n",
              "\n",
              "    [theme=dark] .colab-df-convert:hover {\n",
              "      background-color: #434B5C;\n",
              "      box-shadow: 0px 1px 3px 1px rgba(0, 0, 0, 0.15);\n",
              "      filter: drop-shadow(0px 1px 2px rgba(0, 0, 0, 0.3));\n",
              "      fill: #FFFFFF;\n",
              "    }\n",
              "  </style>\n",
              "\n",
              "      <script>\n",
              "        const buttonEl =\n",
              "          document.querySelector('#df-64e6bd93-994a-48a0-8557-a694dbc6e459 button.colab-df-convert');\n",
              "        buttonEl.style.display =\n",
              "          google.colab.kernel.accessAllowed ? 'block' : 'none';\n",
              "\n",
              "        async function convertToInteractive(key) {\n",
              "          const element = document.querySelector('#df-64e6bd93-994a-48a0-8557-a694dbc6e459');\n",
              "          const dataTable =\n",
              "            await google.colab.kernel.invokeFunction('convertToInteractive',\n",
              "                                                     [key], {});\n",
              "          if (!dataTable) return;\n",
              "\n",
              "          const docLinkHtml = 'Like what you see? Visit the ' +\n",
              "            '<a target=\"_blank\" href=https://colab.research.google.com/notebooks/data_table.ipynb>data table notebook</a>'\n",
              "            + ' to learn more about interactive tables.';\n",
              "          element.innerHTML = '';\n",
              "          dataTable['output_type'] = 'display_data';\n",
              "          await google.colab.output.renderOutput(dataTable, element);\n",
              "          const docLink = document.createElement('div');\n",
              "          docLink.innerHTML = docLinkHtml;\n",
              "          element.appendChild(docLink);\n",
              "        }\n",
              "      </script>\n",
              "    </div>\n",
              "  </div>\n",
              "  "
            ]
          },
          "metadata": {},
          "execution_count": 4
        }
      ]
    },
    {
      "cell_type": "code",
      "metadata": {
        "colab": {
          "base_uri": "https://localhost:8080/"
        },
        "id": "vgnDjvpocdUp",
        "outputId": "867f24f3-636c-40a4-8d08-af9b2357fa59"
      },
      "source": [
        "# number of rows and columns\n",
        "gold_data.shape"
      ],
      "execution_count": 5,
      "outputs": [
        {
          "output_type": "execute_result",
          "data": {
            "text/plain": [
              "(2290, 6)"
            ]
          },
          "metadata": {},
          "execution_count": 5
        }
      ]
    },
    {
      "cell_type": "code",
      "metadata": {
        "colab": {
          "base_uri": "https://localhost:8080/"
        },
        "id": "9SEXC4AWcnDu",
        "outputId": "11a35adb-57ad-4b4a-aa07-55befc8bfce7"
      },
      "source": [
        "# getting some basic informations about the data\n",
        "gold_data.info()"
      ],
      "execution_count": 6,
      "outputs": [
        {
          "output_type": "stream",
          "name": "stdout",
          "text": [
            "<class 'pandas.core.frame.DataFrame'>\n",
            "RangeIndex: 2290 entries, 0 to 2289\n",
            "Data columns (total 6 columns):\n",
            " #   Column   Non-Null Count  Dtype  \n",
            "---  ------   --------------  -----  \n",
            " 0   Date     2290 non-null   object \n",
            " 1   SPX      2290 non-null   float64\n",
            " 2   GLD      2290 non-null   float64\n",
            " 3   USO      2290 non-null   float64\n",
            " 4   SLV      2290 non-null   float64\n",
            " 5   EUR/USD  2290 non-null   float64\n",
            "dtypes: float64(5), object(1)\n",
            "memory usage: 107.5+ KB\n"
          ]
        }
      ]
    },
    {
      "cell_type": "code",
      "metadata": {
        "colab": {
          "base_uri": "https://localhost:8080/"
        },
        "id": "tjmFVXi2cv4Q",
        "outputId": "8f92b2f1-bd85-4ce3-ddca-44610213c28a"
      },
      "source": [
        "# checking the number of missing values\n",
        "gold_data.isnull().sum()"
      ],
      "execution_count": 7,
      "outputs": [
        {
          "output_type": "execute_result",
          "data": {
            "text/plain": [
              "Date       0\n",
              "SPX        0\n",
              "GLD        0\n",
              "USO        0\n",
              "SLV        0\n",
              "EUR/USD    0\n",
              "dtype: int64"
            ]
          },
          "metadata": {},
          "execution_count": 7
        }
      ]
    },
    {
      "cell_type": "code",
      "metadata": {
        "colab": {
          "base_uri": "https://localhost:8080/",
          "height": 300
        },
        "id": "9IcOnRfhc7zv",
        "outputId": "e21a4157-0303-482d-867f-5167fa204a3b"
      },
      "source": [
        "# getting the statistical measures of the data\n",
        "gold_data.describe()"
      ],
      "execution_count": 8,
      "outputs": [
        {
          "output_type": "execute_result",
          "data": {
            "text/plain": [
              "               SPX          GLD          USO          SLV      EUR/USD\n",
              "count  2290.000000  2290.000000  2290.000000  2290.000000  2290.000000\n",
              "mean   1654.315776   122.732875    31.842221    20.084997     1.283653\n",
              "std     519.111540    23.283346    19.523517     7.092566     0.131547\n",
              "min     676.530029    70.000000     7.960000     8.850000     1.039047\n",
              "25%    1239.874969   109.725000    14.380000    15.570000     1.171313\n",
              "50%    1551.434998   120.580002    33.869999    17.268500     1.303297\n",
              "75%    2073.010070   132.840004    37.827501    22.882500     1.369971\n",
              "max    2872.870117   184.589996   117.480003    47.259998     1.598798"
            ],
            "text/html": [
              "\n",
              "  <div id=\"df-d15f1fa5-c0f5-412f-abb9-73a8e8681a90\">\n",
              "    <div class=\"colab-df-container\">\n",
              "      <div>\n",
              "<style scoped>\n",
              "    .dataframe tbody tr th:only-of-type {\n",
              "        vertical-align: middle;\n",
              "    }\n",
              "\n",
              "    .dataframe tbody tr th {\n",
              "        vertical-align: top;\n",
              "    }\n",
              "\n",
              "    .dataframe thead th {\n",
              "        text-align: right;\n",
              "    }\n",
              "</style>\n",
              "<table border=\"1\" class=\"dataframe\">\n",
              "  <thead>\n",
              "    <tr style=\"text-align: right;\">\n",
              "      <th></th>\n",
              "      <th>SPX</th>\n",
              "      <th>GLD</th>\n",
              "      <th>USO</th>\n",
              "      <th>SLV</th>\n",
              "      <th>EUR/USD</th>\n",
              "    </tr>\n",
              "  </thead>\n",
              "  <tbody>\n",
              "    <tr>\n",
              "      <th>count</th>\n",
              "      <td>2290.000000</td>\n",
              "      <td>2290.000000</td>\n",
              "      <td>2290.000000</td>\n",
              "      <td>2290.000000</td>\n",
              "      <td>2290.000000</td>\n",
              "    </tr>\n",
              "    <tr>\n",
              "      <th>mean</th>\n",
              "      <td>1654.315776</td>\n",
              "      <td>122.732875</td>\n",
              "      <td>31.842221</td>\n",
              "      <td>20.084997</td>\n",
              "      <td>1.283653</td>\n",
              "    </tr>\n",
              "    <tr>\n",
              "      <th>std</th>\n",
              "      <td>519.111540</td>\n",
              "      <td>23.283346</td>\n",
              "      <td>19.523517</td>\n",
              "      <td>7.092566</td>\n",
              "      <td>0.131547</td>\n",
              "    </tr>\n",
              "    <tr>\n",
              "      <th>min</th>\n",
              "      <td>676.530029</td>\n",
              "      <td>70.000000</td>\n",
              "      <td>7.960000</td>\n",
              "      <td>8.850000</td>\n",
              "      <td>1.039047</td>\n",
              "    </tr>\n",
              "    <tr>\n",
              "      <th>25%</th>\n",
              "      <td>1239.874969</td>\n",
              "      <td>109.725000</td>\n",
              "      <td>14.380000</td>\n",
              "      <td>15.570000</td>\n",
              "      <td>1.171313</td>\n",
              "    </tr>\n",
              "    <tr>\n",
              "      <th>50%</th>\n",
              "      <td>1551.434998</td>\n",
              "      <td>120.580002</td>\n",
              "      <td>33.869999</td>\n",
              "      <td>17.268500</td>\n",
              "      <td>1.303297</td>\n",
              "    </tr>\n",
              "    <tr>\n",
              "      <th>75%</th>\n",
              "      <td>2073.010070</td>\n",
              "      <td>132.840004</td>\n",
              "      <td>37.827501</td>\n",
              "      <td>22.882500</td>\n",
              "      <td>1.369971</td>\n",
              "    </tr>\n",
              "    <tr>\n",
              "      <th>max</th>\n",
              "      <td>2872.870117</td>\n",
              "      <td>184.589996</td>\n",
              "      <td>117.480003</td>\n",
              "      <td>47.259998</td>\n",
              "      <td>1.598798</td>\n",
              "    </tr>\n",
              "  </tbody>\n",
              "</table>\n",
              "</div>\n",
              "      <button class=\"colab-df-convert\" onclick=\"convertToInteractive('df-d15f1fa5-c0f5-412f-abb9-73a8e8681a90')\"\n",
              "              title=\"Convert this dataframe to an interactive table.\"\n",
              "              style=\"display:none;\">\n",
              "        \n",
              "  <svg xmlns=\"http://www.w3.org/2000/svg\" height=\"24px\"viewBox=\"0 0 24 24\"\n",
              "       width=\"24px\">\n",
              "    <path d=\"M0 0h24v24H0V0z\" fill=\"none\"/>\n",
              "    <path d=\"M18.56 5.44l.94 2.06.94-2.06 2.06-.94-2.06-.94-.94-2.06-.94 2.06-2.06.94zm-11 1L8.5 8.5l.94-2.06 2.06-.94-2.06-.94L8.5 2.5l-.94 2.06-2.06.94zm10 10l.94 2.06.94-2.06 2.06-.94-2.06-.94-.94-2.06-.94 2.06-2.06.94z\"/><path d=\"M17.41 7.96l-1.37-1.37c-.4-.4-.92-.59-1.43-.59-.52 0-1.04.2-1.43.59L10.3 9.45l-7.72 7.72c-.78.78-.78 2.05 0 2.83L4 21.41c.39.39.9.59 1.41.59.51 0 1.02-.2 1.41-.59l7.78-7.78 2.81-2.81c.8-.78.8-2.07 0-2.86zM5.41 20L4 18.59l7.72-7.72 1.47 1.35L5.41 20z\"/>\n",
              "  </svg>\n",
              "      </button>\n",
              "      \n",
              "  <style>\n",
              "    .colab-df-container {\n",
              "      display:flex;\n",
              "      flex-wrap:wrap;\n",
              "      gap: 12px;\n",
              "    }\n",
              "\n",
              "    .colab-df-convert {\n",
              "      background-color: #E8F0FE;\n",
              "      border: none;\n",
              "      border-radius: 50%;\n",
              "      cursor: pointer;\n",
              "      display: none;\n",
              "      fill: #1967D2;\n",
              "      height: 32px;\n",
              "      padding: 0 0 0 0;\n",
              "      width: 32px;\n",
              "    }\n",
              "\n",
              "    .colab-df-convert:hover {\n",
              "      background-color: #E2EBFA;\n",
              "      box-shadow: 0px 1px 2px rgba(60, 64, 67, 0.3), 0px 1px 3px 1px rgba(60, 64, 67, 0.15);\n",
              "      fill: #174EA6;\n",
              "    }\n",
              "\n",
              "    [theme=dark] .colab-df-convert {\n",
              "      background-color: #3B4455;\n",
              "      fill: #D2E3FC;\n",
              "    }\n",
              "\n",
              "    [theme=dark] .colab-df-convert:hover {\n",
              "      background-color: #434B5C;\n",
              "      box-shadow: 0px 1px 3px 1px rgba(0, 0, 0, 0.15);\n",
              "      filter: drop-shadow(0px 1px 2px rgba(0, 0, 0, 0.3));\n",
              "      fill: #FFFFFF;\n",
              "    }\n",
              "  </style>\n",
              "\n",
              "      <script>\n",
              "        const buttonEl =\n",
              "          document.querySelector('#df-d15f1fa5-c0f5-412f-abb9-73a8e8681a90 button.colab-df-convert');\n",
              "        buttonEl.style.display =\n",
              "          google.colab.kernel.accessAllowed ? 'block' : 'none';\n",
              "\n",
              "        async function convertToInteractive(key) {\n",
              "          const element = document.querySelector('#df-d15f1fa5-c0f5-412f-abb9-73a8e8681a90');\n",
              "          const dataTable =\n",
              "            await google.colab.kernel.invokeFunction('convertToInteractive',\n",
              "                                                     [key], {});\n",
              "          if (!dataTable) return;\n",
              "\n",
              "          const docLinkHtml = 'Like what you see? Visit the ' +\n",
              "            '<a target=\"_blank\" href=https://colab.research.google.com/notebooks/data_table.ipynb>data table notebook</a>'\n",
              "            + ' to learn more about interactive tables.';\n",
              "          element.innerHTML = '';\n",
              "          dataTable['output_type'] = 'display_data';\n",
              "          await google.colab.output.renderOutput(dataTable, element);\n",
              "          const docLink = document.createElement('div');\n",
              "          docLink.innerHTML = docLinkHtml;\n",
              "          element.appendChild(docLink);\n",
              "        }\n",
              "      </script>\n",
              "    </div>\n",
              "  </div>\n",
              "  "
            ]
          },
          "metadata": {},
          "execution_count": 8
        }
      ]
    },
    {
      "cell_type": "markdown",
      "metadata": {
        "id": "f9SUQ8hodW4b"
      },
      "source": [
        "Correlation:\n",
        "1. Positive Correlation\n",
        "2. Negative Correlation"
      ]
    },
    {
      "cell_type": "code",
      "metadata": {
        "id": "C3xgji81dJUW"
      },
      "source": [
        "correlation = gold_data.corr()"
      ],
      "execution_count": 9,
      "outputs": []
    },
    {
      "cell_type": "code",
      "metadata": {
        "colab": {
          "base_uri": "https://localhost:8080/",
          "height": 488
        },
        "id": "oOqb9j0Ad-Zx",
        "outputId": "5e106670-229c-45ef-a531-5a49c80187bd"
      },
      "source": [
        "# constructing a heatmap to understand the correlatiom\n",
        "plt.figure(figsize = (8,8))\n",
        "sns.heatmap(correlation, cbar=True, square=True, fmt='.1f',annot=True, annot_kws={'size':8}, cmap='Blues')"
      ],
      "execution_count": 10,
      "outputs": [
        {
          "output_type": "execute_result",
          "data": {
            "text/plain": [
              "<matplotlib.axes._subplots.AxesSubplot at 0x7f9593846100>"
            ]
          },
          "metadata": {},
          "execution_count": 10
        },
        {
          "output_type": "display_data",
          "data": {
            "text/plain": [
              "<Figure size 576x576 with 2 Axes>"
            ],
            "image/png": "[encoded data removed]"
          },
          "metadata": {
            "needs_background": "light"
          }
        }
      ]
    },
    {
      "cell_type": "code",
      "metadata": {
        "colab": {
          "base_uri": "https://localhost:8080/"
        },
        "id": "qtQ_icjRemI4",
        "outputId": "56901994-9cb9-4b87-a5f0-d27e159f5f4e"
      },
      "source": [
        "# correlation values of GLD\n",
        "print(correlation['GLD'])"
      ],
      "execution_count": 11,
      "outputs": [
        {
          "output_type": "stream",
          "name": "stdout",
          "text": [
            "SPX        0.049345\n",
            "GLD        1.000000\n",
            "USO       -0.186360\n",
            "SLV        0.866632\n",
            "EUR/USD   -0.024375\n",
            "Name: GLD, dtype: float64\n"
          ]
        }
      ]
    },
    {
      "cell_type": "code",
      "metadata": {
        "colab": {
          "base_uri": "https://localhost:8080/",
          "height": 358
        },
        "id": "TMr-xVEwfIKg",
        "outputId": "c650ae80-e578-40ab-efa6-8048cd8a4a0a"
      },
      "source": [
        "# checking the distribution of the GLD Price\n",
        "sns.distplot(gold_data['GLD'],color='green')"
      ],
      "execution_count": 12,
      "outputs": [
        {
          "output_type": "stream",
          "name": "stderr",
          "text": [
            "/usr/local/lib/python3.8/dist-packages/seaborn/distributions.py:2619: FutureWarning: `distplot` is a deprecated function and will be removed in a future version. Please adapt your code to use either `displot` (a figure-level function with similar flexibility) or `histplot` (an axes-level function for histograms).\n",
            "  warnings.warn(msg, FutureWarning)\n"
          ]
        },
        {
          "output_type": "execute_result",
          "data": {
            "text/plain": [
              "<matplotlib.axes._subplots.AxesSubplot at 0x7f959388e700>"
            ]
          },
          "metadata": {},
          "execution_count": 12
        },
        {
          "output_type": "display_data",
          "data": {
            "text/plain": [
              "<Figure size 432x288 with 1 Axes>"
            ],
            "image/png": "[encoded data removed]"
          },
          "metadata": {
            "needs_background": "light"
          }
        }
      ]
    },
    {
      "cell_type": "markdown",
      "metadata": {
        "id": "4bdwLbPEfqWI"
      },
      "source": [
        "Splitting the Features and Target"
      ]
    },
    {
      "cell_type": "code",
      "metadata": {
        "id": "SJNxCR0vfWxe"
      },
      "source": [
        "X = gold_data.drop(['Date','GLD'],axis=1)\n",
        "Y = gold_data['GLD']"
      ],
      "execution_count": 13,
      "outputs": []
    },
    {
      "cell_type": "code",
      "metadata": {
        "colab": {
          "base_uri": "https://localhost:8080/"
        },
        "id": "qW9UvLSNf8zH",
        "outputId": "73a20efb-b091-4fce-908c-c9ec7fcbe709"
      },
      "source": [
        "print(X)"
      ],
      "execution_count": 14,
      "outputs": [
        {
          "output_type": "stream",
          "name": "stdout",
          "text": [
            "              SPX        USO      SLV   EUR/USD\n",
            "0     1447.160034  78.470001  15.1800  1.471692\n",
            "1     1447.160034  78.370003  15.2850  1.474491\n",
            "2     1411.630005  77.309998  15.1670  1.475492\n",
            "3     1416.180054  75.500000  15.0530  1.468299\n",
            "4     1390.189941  76.059998  15.5900  1.557099\n",
            "...           ...        ...      ...       ...\n",
            "2285  2671.919922  14.060000  15.5100  1.186789\n",
            "2286  2697.790039  14.370000  15.5300  1.184722\n",
            "2287  2723.070068  14.410000  15.7400  1.191753\n",
            "2288  2730.129883  14.380000  15.5600  1.193118\n",
            "2289  2725.780029  14.405800  15.4542  1.182033\n",
            "\n",
            "[2290 rows x 4 columns]\n"
          ]
        }
      ]
    },
    {
      "cell_type": "code",
      "metadata": {
        "colab": {
          "base_uri": "https://localhost:8080/"
        },
        "id": "lKUe3C-qf9y8",
        "outputId": "9812d458-60af-4b43-85c1-0f482971a7a7"
      },
      "source": [
        "print(Y)"
      ],
      "execution_count": 15,
      "outputs": [
        {
          "output_type": "stream",
          "name": "stdout",
          "text": [
            "0        84.860001\n",
            "1        85.570000\n",
            "2        85.129997\n",
            "3        84.769997\n",
            "4        86.779999\n",
            "           ...    \n",
            "2285    124.589996\n",
            "2286    124.330002\n",
            "2287    125.180000\n",
            "2288    124.489998\n",
            "2289    122.543800\n",
            "Name: GLD, Length: 2290, dtype: float64\n"
          ]
        }
      ]
    },
    {
      "cell_type": "markdown",
      "metadata": {
        "id": "nv8UohBVgE1Z"
      },
      "source": [
        "Splitting into Training data and Test Data"
      ]
    },
    {
      "cell_type": "code",
      "metadata": {
        "id": "KkrUByFugBUn"
      },
      "source": [
        "X_train, X_test, Y_train, Y_test = train_test_split(X, Y, test_size = 0.2, random_state=2)"
      ],
      "execution_count": 16,
      "outputs": []
    },
    {
      "cell_type": "markdown",
      "metadata": {
        "id": "1vrCHktWgqfi"
      },
      "source": [
        "Model Training:\n",
        "Random Forest Regressor"
      ]
    },
    {
      "cell_type": "code",
      "metadata": {
        "id": "N17qRKKGgoaZ"
      },
      "source": [
        "regressor = RandomForestRegressor(n_estimators=100)"
      ],
      "execution_count": 17,
      "outputs": []
    },
    {
      "cell_type": "code",
      "metadata": {
        "colab": {
          "base_uri": "https://localhost:8080/"
        },
        "id": "DP2he4-PhMso",
        "outputId": "fb7ae66f-a523-4fbb-f78c-3563802d5bcf"
      },
      "source": [
        "# training the model\n",
        "regressor.fit(X_train,Y_train)"
      ],
      "execution_count": 18,
      "outputs": [
        {
          "output_type": "execute_result",
          "data": {
            "text/plain": [
              "RandomForestRegressor()"
            ]
          },
          "metadata": {},
          "execution_count": 18
        }
      ]
    },
    {
      "cell_type": "markdown",
      "metadata": {
        "id": "SHNFVsr4hbG2"
      },
      "source": [
        "Model Evaluation"
      ]
    },
    {
      "cell_type": "code",
      "metadata": {
        "id": "uOLpKKD_hXSl"
      },
      "source": [
        "# prediction on Test Data\n",
        "test_data_prediction = regressor.predict(X_test)"
      ],
      "execution_count": 19,
      "outputs": []
    },
    {
      "cell_type": "code",
      "metadata": {
        "colab": {
          "base_uri": "https://localhost:8080/"
        },
        "id": "WSIqrLNdhnOr",
        "outputId": "aca8dd7b-dd38-45bf-8f29-a3a2fc55bd71"
      },
      "source": [
        "print(test_data_prediction)"
      ],
      "execution_count": 20,
      "outputs": [
        {
          "output_type": "stream",
          "name": "stdout",
          "text": [
            "[168.8024997   81.76539994 116.12460019 127.62850073 120.48470156\n",
            " 154.66519818 150.24759836 125.84670103 117.63599858 126.1703004\n",
            " 116.85650075 172.02970087 141.59679814 167.85919873 115.10210022\n",
            " 117.82960026 138.57680361 169.86320092 159.40210318 161.05689992\n",
            " 154.91850014 125.44000014 175.49340004 157.50830401 125.1320003\n",
            "  93.66869953  78.02370047 120.52970031 119.13349971 167.45739924\n",
            "  88.04280098 125.24589994  91.14940071 117.66750035 121.2089994\n",
            " 135.98950078 115.694701   115.04590048 146.44709943 106.99790111\n",
            " 104.82810278  87.04569765 126.48040045 118.10090015 152.68889877\n",
            " 119.61880008 108.28900029 108.03599864  93.27370055 127.08999789\n",
            "  75.02340024 113.68889914 121.17329996 111.22789913 118.92419886\n",
            " 120.5121995  160.02059918 168.33770156 147.09079678  85.83389886\n",
            "  94.36280034  86.79519902  90.50050024 119.04540061 126.49490095\n",
            " 127.72149976 171.15230023 122.4069992  117.51719915  98.86540018\n",
            " 167.9912021  143.15119877 132.31180264 121.23400213 121.05899936\n",
            " 119.94710073 114.55480113 118.34530054 106.96280105 128.01270153\n",
            " 113.95429968 107.48039984 116.68990078 119.65489935  88.99480029\n",
            "  88.26269898 146.4706018  127.41390019 113.40880057 110.5933987\n",
            " 108.00199893  77.71559894 169.88760205 114.04949917 121.74349888\n",
            " 127.43100145 154.88539843  91.87309932 135.033001   159.02880316\n",
            " 125.05030046 125.63790047 130.52790141 114.99450071 119.80359947\n",
            "  92.04919968 110.24699897 167.74819956 156.49949951 114.1226994\n",
            " 106.6976014   79.26499986 113.33470035 125.84690105 107.2521991\n",
            " 119.56700101 155.6990033  159.7409986  119.96249984 134.27220299\n",
            " 101.39339988 117.32829809 119.38200035 112.91350054 102.7760988\n",
            " 160.50779769  99.36290041 147.62240009 125.3281011  169.61439948\n",
            " 125.59379886 127.37199737 127.57160148 113.86039913 113.08560077\n",
            " 123.54299896 102.1041991   88.95689982 124.7889997  101.74339927\n",
            " 107.01119913 113.6225001  117.55810039  99.19359956 121.67850059\n",
            " 163.340599    87.33899855 106.7294999  117.2687009  127.77440158\n",
            " 124.01900058  80.77579923 120.57860031 156.91729846  87.98909965\n",
            " 110.27619958 119.03359907 172.69829885 102.98369909 105.86200059\n",
            " 122.34990023 156.93189786  87.64069835  93.04940034 112.69390038\n",
            " 177.21080023 114.45490017 119.43210034  94.66300117 125.65990073\n",
            " 165.93120159 115.08220066 116.62860131  88.28939885 149.1347014\n",
            " 120.4637994   89.55709972 112.78680013 117.15080065 118.7462013\n",
            "  88.20489995  94.05830011 117.15969981 118.50690153 120.33750005\n",
            " 126.66489866 121.92029971 148.99210006 165.73610109 118.56489973\n",
            " 120.48780117 150.76999997 118.35839864 172.53419942 105.24789919\n",
            " 104.968201   149.43500155 114.01530066 124.81940116 147.6377997\n",
            " 119.51870136 115.36640055 112.68490007 113.46520213 140.84430107\n",
            " 117.9862976  102.99780036 115.891301   104.04320214  98.71730056\n",
            " 117.41470054  90.71890031  91.57620083 153.45039876 102.69129976\n",
            " 154.46740059 114.34300187 138.92410158  90.10079834 115.48689965\n",
            " 114.68779993 123.29140081 121.83640046 165.45400081  92.95649931\n",
            " 135.85150099 121.29709917 120.67990072 104.71530006 141.99780292\n",
            " 121.78439933 116.78350033 113.30420113 126.92689804 122.36689966\n",
            " 125.76879951 121.1925002   86.81459914 132.35280162 145.49390165\n",
            "  92.57609963 157.42719961 159.22610235 126.34419887 165.00649977\n",
            " 108.79369928 110.51460074 103.81319825  94.44030088 127.45920238\n",
            " 106.85330056 160.44280034 121.61150058 132.07840053 130.55650141\n",
            " 160.3821997   90.11689866 175.32800211 127.7070003  126.8019989\n",
            "  86.36999907 124.59159927 150.31859705  89.73030008 106.9375\n",
            " 109.01819982  84.51399903 135.98869973 154.97860217 138.48350371\n",
            "  73.99380007 151.70510101 126.09000092 126.82530024 127.55489919\n",
            " 108.71409963 156.1334008  114.77340088 116.90080167 125.46199968\n",
            " 153.99840094 121.46409979 156.44939912  92.90840041 125.55970153\n",
            " 126.02880037  87.78300066  92.25049951 126.39029925 128.60650335\n",
            " 113.18820028 117.55219758 120.7733002  127.02999853 119.59820125\n",
            " 135.96440047  93.80519931 119.75460029 113.22380113  94.25969941\n",
            " 108.92519934  87.20519881 108.94899918  89.62599972  92.5899002\n",
            " 131.4442032  162.36510047  89.35050028 119.52930064 133.46600222\n",
            " 123.85570026 128.31960197 102.02209867  88.87959882 131.31090094\n",
            " 119.73370041 108.6379002  167.83540179 115.12450037  86.6030987\n",
            " 118.81820093  91.06069994 162.07819985 116.63010042 121.49199974\n",
            " 160.18019772 120.12209912 112.79689913 108.42099855 126.74099978\n",
            "  76.11180024 102.97489994 127.08480207 121.75219942  92.58969992\n",
            " 131.91230033 118.03380151 116.19869968 154.46590275 160.02860093\n",
            " 110.24209944 156.64859782 119.32080091 160.58870059 118.61570049\n",
            " 158.23189948 115.24159956 116.4455005  149.64229906 114.91860058\n",
            " 125.655599   165.52139973 117.64900015 124.85989946 153.17650362\n",
            " 153.39210264 132.03060023 114.90310047 121.2380019  125.08720072\n",
            "  89.70290063 123.42919984 154.73330242 111.52600018 106.62440001\n",
            " 162.10980135 118.53599955 165.63710018 134.38040104 115.23589997\n",
            " 152.99509915 168.62709947 114.55610007 114.09480121 158.15769901\n",
            "  85.16059911 127.11650106 127.94040045 129.01919953 124.28710069\n",
            " 123.93290094  90.54930076 153.17020012  97.15369954 136.83959992\n",
            "  89.07429904 107.41179991 114.99410044 112.81100059 124.2679991\n",
            "  91.37529878 125.42780132 162.44889908 120.00079866 165.15160049\n",
            " 126.71939854 112.1334999  127.57619926  95.02019889  91.00459956\n",
            " 103.35769885 120.71540035  83.0787994  126.29580012 160.13240427\n",
            " 117.35450088 118.37429985 119.88980003 122.66529963 120.13190125\n",
            " 121.58870012 118.07590071 106.90810018 148.45260034 126.15509888\n",
            " 115.62890103  73.66800009 127.81950124 153.95840036 121.86300034\n",
            " 125.5668005   88.86170017 104.08609876 125.06970061 120.16880036\n",
            "  73.33340079 152.03700024 121.0907005  104.63079986  86.35239777\n",
            " 115.26989943 172.17669834 119.98030027 160.31919831 113.16560009\n",
            " 121.10420029 118.27880149  95.89909985 118.37110011 125.85890034\n",
            " 118.50799956  96.23690073 154.07480154 122.10479965 147.46699974\n",
            " 159.31840212 113.98780014 122.5353993  148.34009846 127.62480039\n",
            " 165.58640094 135.0120001  119.92969911 167.21709849 108.24659974\n",
            " 121.75059849 138.82410125 107.41269918]\n"
          ]
        }
      ]
    },
    {
      "cell_type": "code",
      "metadata": {
        "colab": {
          "base_uri": "https://localhost:8080/"
        },
        "id": "fu7A1hhMhqa9",
        "outputId": "6c10f013-47b8-4fe6-bef1-6be526400823"
      },
      "source": [
        "# R squared error\n",
        "error_score = metrics.r2_score(Y_test, test_data_prediction)\n",
        "print(\"R squared error : \", error_score)"
      ],
      "execution_count": 21,
      "outputs": [
        {
          "output_type": "stream",
          "name": "stdout",
          "text": [
            "R squared error :  0.9897511997931183\n"
          ]
        }
      ]
    },
    {
      "cell_type": "markdown",
      "metadata": {
        "id": "f1fiqOMkiZNL"
      },
      "source": [
        "Compare the Actual Values and Predicted Values in a Plot"
      ]
    },
    {
      "cell_type": "code",
      "metadata": {
        "id": "QoC4g_tBiE4A"
      },
      "source": [
        "Y_test = list(Y_test)"
      ],
      "execution_count": 22,
      "outputs": []
    },
    {
      "cell_type": "code",
      "metadata": {
        "colab": {
          "base_uri": "https://localhost:8080/",
          "height": 295
        },
        "id": "sMSVMVtFijxo",
        "outputId": "f98b1c26-dac6-41f8-bad8-da131f5e7c9a"
      },
      "source": [
        "plt.plot(Y_test, color='blue', label = 'Actual Value')\n",
        "plt.plot(test_data_prediction, color='green', label='Predicted Value')\n",
        "plt.title('Actual Price vs Predicted Price')\n",
        "plt.xlabel('Number of values')\n",
        "plt.ylabel('GLD Price')\n",
        "plt.legend()\n",
        "plt.show()"
      ],
      "execution_count": 23,
      "outputs": [
        {
          "output_type": "display_data",
          "data": {
            "text/plain": [
              "<Figure size 432x288 with 1 Axes>"
            ],
            "image/png": "[encoded data removed]"
          },
          "metadata": {
            "needs_background": "light"
          }
        }
      ]
    },
    {
      "cell_type": "code",
      "source": [
        "# Decision Tree\n",
        "\n",
        "# import the regressor\n",
        "from sklearn.tree import DecisionTreeRegressor \n",
        "  \n",
        "# create a regressor object\n",
        "regressor = DecisionTreeRegressor(random_state = 0) \n",
        "  \n",
        "# fit the regressor with X and Y data\n",
        "regressor.fit(X_train,Y_train)"
      ],
      "metadata": {
        "id": "KDCZND5X-Scj",
        "colab": {
          "base_uri": "https://localhost:8080/"
        },
        "outputId": "51bbad17-5b33-4100-ffab-dcfeb791e97b"
      },
      "execution_count": 24,
      "outputs": [
        {
          "output_type": "execute_result",
          "data": {
            "text/plain": [
              "DecisionTreeRegressor(random_state=0)"
            ]
          },
          "metadata": {},
          "execution_count": 24
        }
      ]
    },
    {
      "cell_type": "code",
      "source": [
        "# predicting a new value\n",
        "  \n",
        "# test the output \n",
        "y_pred = regressor.predict(X_test)\n",
        "y_pred"
      ],
      "metadata": {
        "colab": {
          "base_uri": "https://localhost:8080/"
        },
        "id": "0ApAdf_XsxnR",
        "outputId": "bdd9995b-47a9-4949-b689-d32c126b06c1"
      },
      "execution_count": 31,
      "outputs": [
        {
          "output_type": "execute_result",
          "data": {
            "text/plain": [
              "array([168.970001,  86.089996, 114.769997, 127.550003, 121.730003,\n",
              "       155.669998, 149.149994, 126.809998, 117.389999, 125.620003,\n",
              "       117.959999, 174.580002, 141.919998, 167.179993, 115.839996,\n",
              "       116.730003, 134.100006, 168.5     , 159.570007, 138.220001,\n",
              "       155.360001, 126.610001, 177.210007, 157.339996, 125.459999,\n",
              "        93.720001,  73.080002, 122.290001, 119.220001, 167.990005,\n",
              "        87.370003, 124.769997,  91.730003, 117.919998, 121.300003,\n",
              "       135.410004, 114.57    , 115.800003, 134.119995, 105.720001,\n",
              "       104.370003,  87.239998, 127.489998, 118.360001, 157.779999,\n",
              "       119.959999, 108.419998, 107.839996,  93.459999, 128.539993,\n",
              "        72.510002, 113.260002, 120.110001, 109.860001, 118.919998,\n",
              "       120.730003, 161.320007, 161.520004, 146.869995,  85.199997,\n",
              "        93.040001,  86.879997,  90.949997, 119.800003, 126.139999,\n",
              "       127.400002, 173.490005, 122.970001, 116.209999,  97.550003,\n",
              "       170.130005, 142.050003, 132.490005, 120.910004, 122.879997,\n",
              "       119.190002, 113.910004, 118.82    , 106.260002, 127.660004,\n",
              "       114.769997, 108.470001, 115.57    , 119.699997,  89.910004,\n",
              "        87.989998, 142.380005, 127.150002, 114.209999, 110.239998,\n",
              "       108.279999,  73.080002, 173.020004, 113.639999, 121.209999,\n",
              "       128.5     , 155.139999,  91.769997, 134.410004, 161.320007,\n",
              "       124.43    , 126.18    , 130.369995, 113.910004, 121.160004,\n",
              "        92.059998, 111.459999, 173.490005, 160.289993, 113.639999,\n",
              "       107.040001,  81.989998, 113.669998, 125.540001, 108.089996,\n",
              "       118.82    , 157.320007, 160.559998, 120.139999, 132.850006,\n",
              "       101.849998, 116.029999, 118.959999, 112.440002, 102.309998,\n",
              "       160.559998,  97.43    , 139.350006, 125.290001, 171.509995,\n",
              "       123.730003, 128.539993, 128.380005, 115.199997, 112.139999,\n",
              "       124.269997, 101.790001,  89.5     , 125.959999,  99.669998,\n",
              "       107.040001, 115.849998, 116.730003,  97.699997, 121.650002,\n",
              "       165.279999,  87.089996, 107.669998, 118.559998, 127.660004,\n",
              "       125.18    ,  79.790001, 121.470001, 160.619995,  89.5     ,\n",
              "       109.760002, 118.279999, 174.399994, 102.459999, 104.860001,\n",
              "       122.599998, 160.619995,  86.610001,  92.760002, 111.57    ,\n",
              "       177.210007, 114.720001, 118.959999,  93.860001, 124.910004,\n",
              "       166.630005, 113.910004, 117.260002,  88.419998, 150.410004,\n",
              "       119.75    ,  89.440002, 112.650002, 118.360001, 118.860001,\n",
              "        87.690002,  94.599998, 114.459999, 118.230003, 120.839996,\n",
              "       126.160004, 122.080002, 138.      , 165.649994, 119.32    ,\n",
              "       120.730003, 151.440002, 120.559998, 174.399994, 107.43    ,\n",
              "       105.169998, 150.410004, 114.769997, 124.360001, 146.589996,\n",
              "       119.730003, 113.639999, 112.650002, 112.220001, 132.690002,\n",
              "       118.099998, 103.150002, 115.940002, 104.370003,  98.360001,\n",
              "       118.360001,  89.440002,  91.980003, 154.449997, 102.459999,\n",
              "       154.470001, 115.050003, 137.660004,  90.589996, 115.139999,\n",
              "       108.860001, 119.510002, 122.709999, 166.490005,  93.389999,\n",
              "       137.660004, 121.110001, 120.160004, 105.68    , 135.020004,\n",
              "       122.169998, 116.470001, 113.5     , 128.789993, 123.32    ,\n",
              "       125.699997, 121.110001,  87.239998, 132.070007, 135.380005,\n",
              "        91.5     , 161.520004, 161.320007, 126.949997, 168.110001,\n",
              "       110.290001, 108.550003, 103.019997,  94.730003, 129.740005,\n",
              "       107.040001, 161.520004, 121.650002, 131.740005, 130.369995,\n",
              "       157.210007,  90.610001, 177.210007, 129.860001, 126.160004,\n",
              "        84.769997, 124.019997, 150.479996,  89.440002, 107.669998,\n",
              "       108.470001,  88.32    , 134.300003, 156.710007, 135.020004,\n",
              "        72.5     , 151.440002, 126.809998, 127.169998, 127.970001,\n",
              "       108.470001, 157.160004, 113.910004, 116.730003, 123.389999,\n",
              "       154.      , 122.760002, 156.479996,  92.93    , 125.379997,\n",
              "       124.239998,  88.580002,  91.610001, 125.620003, 129.710007,\n",
              "       112.589996, 116.839996, 120.779999, 128.789993, 120.730003,\n",
              "       136.050003,  92.949997, 118.809998, 112.940002,  94.599998,\n",
              "       109.129997,  88.32    , 108.949997,  90.809998,  93.389999,\n",
              "       130.369995, 161.419998,  88.32    , 120.139999, 134.25    ,\n",
              "       124.389999, 129.710007, 101.419998,  91.309998, 130.800003,\n",
              "       123.32    , 108.220001, 173.199997, 113.290001,  86.510002,\n",
              "       118.540001,  91.25    , 161.589996, 118.360001, 123.620003,\n",
              "       159.429993, 120.559998, 114.269997, 108.309998, 126.800003,\n",
              "        75.650002, 103.18    , 129.740005, 121.589996,  92.730003,\n",
              "       132.199997, 118.559998, 117.099998, 154.470001, 161.220001,\n",
              "       110.809998, 137.380005, 119.330002, 160.559998, 117.449997,\n",
              "       159.050003, 114.860001, 116.5     , 147.179993, 115.43    ,\n",
              "       127.779999, 167.339996, 117.139999, 124.779999, 152.300003,\n",
              "       153.050003, 132.009995, 115.43    , 121.559998, 129.740005,\n",
              "        90.279999, 125.32    , 157.320007, 110.459999, 107.669998,\n",
              "       162.300003, 118.769997, 165.800003, 134.75    , 113.269997,\n",
              "       152.589996, 169.610001, 117.769997, 114.720001, 161.449997,\n",
              "        84.459999, 127.120003, 128.270004, 128.110001, 124.529999,\n",
              "       124.400002,  90.800003, 151.910004,  96.5     , 136.050003,\n",
              "        86.449997, 108.470001, 115.      , 111.75    , 124.959999,\n",
              "        91.610001, 124.589996, 161.419998, 121.239998, 167.580002,\n",
              "       126.160004, 112.970001, 127.599998,  95.449997,  94.349998,\n",
              "       102.279999, 120.739998,  84.279999, 126.589996, 160.460007,\n",
              "       116.610001, 118.68    , 117.610001, 124.389999, 120.720001,\n",
              "       120.940002, 117.650002, 107.040001, 146.869995, 123.730003,\n",
              "       115.32    ,  74.      , 127.349998, 157.779999, 118.      ,\n",
              "       125.540001,  89.269997, 102.199997, 123.389999, 121.      ,\n",
              "        73.790001, 151.050003, 120.110001, 103.93    ,  88.949997,\n",
              "       114.769997, 172.289993, 121.470001, 160.649994, 113.669998,\n",
              "       121.790001, 118.559998,  96.5     , 119.169998, 126.07    ,\n",
              "       118.239998,  97.800003, 157.779999, 123.620003, 146.      ,\n",
              "       159.300003, 114.730003, 123.239998, 145.729996, 128.669998,\n",
              "       166.130005, 132.690002, 120.980003, 173.020004, 109.199997,\n",
              "       122.019997, 135.410004, 103.419998])"
            ]
          },
          "metadata": {},
          "execution_count": 31
        }
      ]
    },
    {
      "cell_type": "code",
      "source": [
        "# R squared error\n",
        "error_score = metrics.r2_score(Y_test, test_data_prediction)\n",
        "\n",
        "print(\"R squared error : \", error_score)"
      ],
      "metadata": {
        "colab": {
          "base_uri": "https://localhost:8080/"
        },
        "id": "_lwoSG41s1dT",
        "outputId": "86debd1a-30df-4a1a-e351-f003018a3b7e"
      },
      "execution_count": 33,
      "outputs": [
        {
          "output_type": "stream",
          "name": "stdout",
          "text": [
            "R squared error :  0.9897511997931183\n"
          ]
        }
      ]
    },
    {
      "cell_type": "code",
      "source": [
        "regressor.score(X_test, Y_test)"
      ],
      "metadata": {
        "colab": {
          "base_uri": "https://localhost:8080/"
        },
        "id": "uh1W-szBtf6s",
        "outputId": "8f7af008-909d-4267-f401-3afd75ed1ec8"
      },
      "execution_count": 34,
      "outputs": [
        {
          "output_type": "execute_result",
          "data": {
            "text/plain": [
              "0.9854190298916252"
            ]
          },
          "metadata": {},
          "execution_count": 34
        }
      ]
    },
    {
      "cell_type": "code",
      "source": [],
      "metadata": {
        "id": "AVIj4SqduJTz"
      },
      "execution_count": null,
      "outputs": []
    }
  ]
}