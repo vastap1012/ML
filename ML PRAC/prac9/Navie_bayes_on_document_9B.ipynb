{
  "nbformat": 4,
  "nbformat_minor": 0,
  "metadata": {
    "colab": {
      "provenance": []
    },
    "kernelspec": {
      "name": "python3",
      "display_name": "Python 3"
    },
    "language_info": {
      "name": "python"
    }
  },
  "cells": [
    {
      "cell_type": "code",
      "execution_count": 10,
      "metadata": {
        "id": "iORYSd-59Ffc"
      },
      "outputs": [],
      "source": [
        "import pandas as pd\n",
        "from sklearn.model_selection import train_test_split\n",
        "from sklearn.feature_extraction.text import CountVectorizer\n",
        "from sklearn.naive_bayes import MultinomialNB\n",
        "from sklearn import metrics"
      ]
    },
    {
      "cell_type": "code",
      "source": [
        "msg=pd.read_csv('naivetext.csv',names=['message','label'])"
      ],
      "metadata": {
        "id": "IQKC6INH9QHg"
      },
      "execution_count": 11,
      "outputs": []
    },
    {
      "cell_type": "code",
      "source": [
        "print('The dimensions of the dataset',msg.shape)"
      ],
      "metadata": {
        "colab": {
          "base_uri": "https://localhost:8080/"
        },
        "id": "Uqg0URLu9SwX",
        "outputId": "5df42f3d-a019-4453-e650-488d339f58f8"
      },
      "execution_count": 12,
      "outputs": [
        {
          "output_type": "stream",
          "name": "stdout",
          "text": [
            "The dimensions of the dataset (18, 2)\n"
          ]
        }
      ]
    },
    {
      "cell_type": "code",
      "source": [
        "msg['labelnum']=msg.label.map({'pos':1,'neg':0})\n",
        "X=msg.message\n",
        "y=msg.labelnum"
      ],
      "metadata": {
        "id": "GuTpge_29U2d"
      },
      "execution_count": 13,
      "outputs": []
    },
    {
      "cell_type": "code",
      "source": [
        "#splitting the dataset into train and test data\n",
        "xtrain,xtest,ytrain,ytest=train_test_split(X,y)\n",
        "print ('\\n the total number of Training Data :',ytrain.shape)\n",
        "print ('\\n the total number of Test Data :',ytest.shape)"
      ],
      "metadata": {
        "colab": {
          "base_uri": "https://localhost:8080/"
        },
        "id": "5L5UWgad9rAJ",
        "outputId": "261bacc8-857a-4aff-ea1e-c2bf3a7c3fc8"
      },
      "execution_count": 14,
      "outputs": [
        {
          "output_type": "stream",
          "name": "stdout",
          "text": [
            "\n",
            " the total number of Training Data : (13,)\n",
            "\n",
            " the total number of Test Data : (5,)\n"
          ]
        }
      ]
    },
    {
      "cell_type": "code",
      "source": [
        "#output the words or Tokens in the text documents\n",
        "cv = CountVectorizer()\n",
        "xtrain_dtm = cv.fit_transform(xtrain)\n",
        "xtest_dtm=cv.transform(xtest)\n",
        "print('\\n The words or Tokens in the text documents \\n')\n",
        "print(cv.get_feature_names())\n",
        "df=pd.DataFrame(xtrain_dtm.toarray(),columns=cv.get_feature_names())"
      ],
      "metadata": {
        "colab": {
          "base_uri": "https://localhost:8080/"
        },
        "id": "rYkoEs4v92or",
        "outputId": "87556baf-9e16-4830-de53-67eed03432a1"
      },
      "execution_count": 15,
      "outputs": [
        {
          "output_type": "stream",
          "name": "stdout",
          "text": [
            "\n",
            " The words or Tokens in the text documents \n",
            "\n",
            "['about', 'am', 'amazing', 'an', 'and', 'awesome', 'bad', 'beers', 'boss', 'can', 'deal', 'enemy', 'feel', 'good', 'great', 'he', 'holiday', 'horrible', 'house', 'is', 'locality', 'love', 'my', 'of', 'place', 'sandwich', 'sick', 'stay', 'stuff', 'sworn', 'that', 'these', 'this', 'tired', 'to', 'today', 'very', 'view', 'went', 'what', 'with']\n"
          ]
        },
        {
          "output_type": "stream",
          "name": "stderr",
          "text": [
            "/usr/local/lib/python3.8/dist-packages/sklearn/utils/deprecation.py:87: FutureWarning: Function get_feature_names is deprecated; get_feature_names is deprecated in 1.0 and will be removed in 1.2. Please use get_feature_names_out instead.\n",
            "  warnings.warn(msg, category=FutureWarning)\n"
          ]
        }
      ]
    },
    {
      "cell_type": "code",
      "source": [
        "# Training Naive Bayes (NB) classifier on training data.\n",
        "clf = MultinomialNB().fit(xtrain_dtm,ytrain)\n",
        "predicted = clf.predict(xtest_dtm)"
      ],
      "metadata": {
        "id": "d58FMTVu984o"
      },
      "execution_count": 16,
      "outputs": []
    },
    {
      "cell_type": "code",
      "source": [
        "#printing accuracy, Confusion matrix, Precision and Recall\n",
        "print('\\n Accuracy of the classifier is',metrics.accuracy_score(ytest,predicted))\n",
        "print('\\n Confusion matrix')\n",
        "print(metrics.confusion_matrix(ytest,predicted))\n",
        "print('\\n The value of Precision', metrics.precision_score(ytest,predicted))\n",
        "print('\\n The value of Recall', metrics.recall_score(ytest,predicted))"
      ],
      "metadata": {
        "colab": {
          "base_uri": "https://localhost:8080/"
        },
        "id": "PtGA3Sxk-AI0",
        "outputId": "dd3b44e5-209b-4f56-9adb-b7c5ef0f5569"
      },
      "execution_count": 17,
      "outputs": [
        {
          "output_type": "stream",
          "name": "stdout",
          "text": [
            "\n",
            " Accuracy of the classifier is 0.6\n",
            "\n",
            " Confusion matrix\n",
            "[[2 0]\n",
            " [2 1]]\n",
            "\n",
            " The value of Precision 1.0\n",
            "\n",
            " The value of Recall 0.3333333333333333\n"
          ]
        }
      ]
    },
    {
      "cell_type": "code",
      "source": [],
      "metadata": {
        "id": "T3CJ1nwh-C8A"
      },
      "execution_count": 17,
      "outputs": []
    }
  ]
}