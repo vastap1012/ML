{
  "nbformat": 4,
  "nbformat_minor": 0,
  "metadata": {
    "colab": {
      "provenance": []
    },
    "kernelspec": {
      "name": "python3",
      "display_name": "Python 3"
    },
    "language_info": {
      "name": "python"
    }
  },
  "cells": [
    {
      "cell_type": "markdown",
      "source": [
        "1. a. Design a simple machine learning model to train the training instances and test the same.\n",
        "\n",
        "\n"
      ],
      "metadata": {
        "id": "EllX1fODdssB"
      }
    },
    {
      "cell_type": "code",
      "execution_count": 1,
      "metadata": {
        "id": "a4qUdODXdq9E"
      },
      "outputs": [],
      "source": [
        "# Generating the Training Set\n",
        "\n",
        "# python library to generate random numbers\n",
        "from random import randint\n",
        "\n",
        "# the limit within which random numbers are generated\n",
        "TRAIN_SET_LIMIT = 1000\n",
        "\n",
        "# to create exactly 100 data items\n",
        "TRAIN_SET_COUNT = 100\n",
        "\n",
        "# list that contains input and corresponding output\n",
        "TRAIN_INPUT = list()\n",
        "TRAIN_OUTPUT = list()\n"
      ]
    },
    {
      "cell_type": "code",
      "source": [
        "# loop to create 100 data items with three columns each\n",
        "for i in range(TRAIN_SET_COUNT):\n",
        "\ta = randint(0, TRAIN_SET_LIMIT)\n",
        "\tb = randint(0, TRAIN_SET_LIMIT)\n",
        "\tc = randint(0, TRAIN_SET_LIMIT)\n",
        "\n",
        "# creating the output for each data item\n",
        "\top = a + (2 * b) + (3 * c)\n",
        "\tTRAIN_INPUT.append([a, b, c])\n",
        "\n",
        "# adding each output to output list\n",
        "\tTRAIN_OUTPUT.append(op)"
      ],
      "metadata": {
        "id": "l1xkj8NieCtE"
      },
      "execution_count": 4,
      "outputs": []
    },
    {
      "cell_type": "code",
      "source": [
        "# printing first 10 records \n",
        "TRAIN_OUTPUT[:10]"
      ],
      "metadata": {
        "colab": {
          "base_uri": "https://localhost:8080/"
        },
        "id": "1iGhIt5UeHs5",
        "outputId": "db84037c-856b-4b21-852c-e2737a3a0a70"
      },
      "execution_count": 6,
      "outputs": [
        {
          "output_type": "execute_result",
          "data": {
            "text/plain": [
              "[1122, 2518, 5291, 3471, 3522, 4008, 4547, 3760, 4414, 1890]"
            ]
          },
          "metadata": {},
          "execution_count": 6
        }
      ]
    },
    {
      "cell_type": "code",
      "source": [
        "# printing first 10 records\n",
        "TRAIN_INPUT[:10]"
      ],
      "metadata": {
        "colab": {
          "base_uri": "https://localhost:8080/"
        },
        "id": "DNNn_FnaeIsz",
        "outputId": "d38281cb-eff3-48b0-be3b-e22da3a1986e"
      },
      "execution_count": 7,
      "outputs": [
        {
          "output_type": "execute_result",
          "data": {
            "text/plain": [
              "[[306, 270, 92],\n",
              " [477, 233, 525],\n",
              " [514, 908, 987],\n",
              " [576, 84, 909],\n",
              " [517, 664, 559],\n",
              " [652, 424, 836],\n",
              " [672, 559, 919],\n",
              " [805, 210, 845],\n",
              " [221, 763, 889],\n",
              " [300, 666, 86]]"
            ]
          },
          "metadata": {},
          "execution_count": 7
        }
      ]
    },
    {
      "cell_type": "markdown",
      "source": [
        "The Model can be created in two steps:-\n",
        "\n",
        "1. Training the model with Training Data\n",
        "\n",
        "2. Testing the model with Test Data"
      ],
      "metadata": {
        "id": "E_RNnE_NfM--"
      }
    },
    {
      "cell_type": "code",
      "source": [
        "# Training the Model\n",
        "# The data that was created using the above code is used to train the model\n",
        "\n",
        "# Sk-Learn contains the linear regression model\n",
        "from sklearn.linear_model import LinearRegression\n",
        "\n",
        "# Initialize the linear regression model\n",
        "predictor = LinearRegression(n_jobs =-1)\n",
        "\n",
        "# Fill the Model with the Data\n",
        "predictor.fit(X = TRAIN_INPUT, y = TRAIN_OUTPUT)\n"
      ],
      "metadata": {
        "colab": {
          "base_uri": "https://localhost:8080/"
        },
        "id": "7ZPVBdsaedmO",
        "outputId": "2868f3a0-9007-4d90-f317-f13f235538bc"
      },
      "execution_count": 8,
      "outputs": [
        {
          "output_type": "execute_result",
          "data": {
            "text/plain": [
              "LinearRegression(n_jobs=-1)"
            ]
          },
          "metadata": {},
          "execution_count": 8
        }
      ]
    },
    {
      "cell_type": "markdown",
      "source": [
        "Testing the Data\n",
        "\n",
        "The testing is done Manually. Testing can be done using some random data and testing if the model gives the correct result for the input data."
      ],
      "metadata": {
        "id": "9WOr-Xw4ffGl"
      }
    },
    {
      "cell_type": "code",
      "source": [
        "# Random Test data\n",
        "X_TEST = [[ 10, 20, 30 ]]   #---> 10 + 20*2 + 30*3 = 140.\n",
        "\n",
        "# Predict the result of X_TEST which holds testing data\n",
        "outcome = predictor.predict(X = X_TEST)\n",
        "\n",
        "# Predict the coefficients\n",
        "coefficients = predictor.coef_\n",
        "\n",
        "# Print the result obtained for the test data\n",
        "print('Outcome : {}\\nCoefficients : {}'.format(outcome, coefficients))"
      ],
      "metadata": {
        "colab": {
          "base_uri": "https://localhost:8080/"
        },
        "id": "tLDpE3Rhfbcw",
        "outputId": "0ee29cd0-3dfd-4a93-e1bd-561567d616ca"
      },
      "execution_count": 9,
      "outputs": [
        {
          "output_type": "stream",
          "name": "stdout",
          "text": [
            "Outcome : [140.]\n",
            "Coefficients : [1. 2. 3.]\n"
          ]
        }
      ]
    },
    {
      "cell_type": "code",
      "source": [],
      "metadata": {
        "id": "TfZw3b1yfkMP"
      },
      "execution_count": null,
      "outputs": []
    }
  ]
}